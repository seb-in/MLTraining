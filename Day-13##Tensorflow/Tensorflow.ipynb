{
 "cells": [
  {
   "cell_type": "code",
   "execution_count": 32,
   "metadata": {},
   "outputs": [],
   "source": [
    "import tensorflow as tf"
   ]
  },
  {
   "cell_type": "code",
   "execution_count": 33,
   "metadata": {},
   "outputs": [
    {
     "name": "stdout",
     "output_type": "stream",
     "text": [
      "2.3.1\n"
     ]
    }
   ],
   "source": [
    "print(tf.__version__)"
   ]
  },
  {
   "cell_type": "code",
   "execution_count": 34,
   "metadata": {},
   "outputs": [
    {
     "name": "stdout",
     "output_type": "stream",
     "text": [
      "<class 'tensorflow.python.framework.ops.EagerTensor'>\n",
      "Hello, world!!\r\n"
     ]
    }
   ],
   "source": [
    "msg = tf.constant('Hello, world!!')\n",
    "print(type(msg))\n",
    "tf.print(msg)"
   ]
  },
  {
   "cell_type": "code",
   "execution_count": 35,
   "metadata": {},
   "outputs": [
    {
     "name": "stdout",
     "output_type": "stream",
     "text": [
      "The sum is : \n",
      "7\r\n"
     ]
    }
   ],
   "source": [
    "node1 = tf.constant(2, dtype=tf.int32)\n",
    "node2 = tf.constant(5, dtype=tf.int32)\n",
    "node3 = tf.add(node1, node2)\n",
    "print(\"The sum is : \")\n",
    "tf.print(node3)"
   ]
  },
  {
   "cell_type": "code",
   "execution_count": 36,
   "metadata": {},
   "outputs": [
    {
     "name": "stdout",
     "output_type": "stream",
     "text": [
      "Before addition\n",
      "[[0 0]\n",
      " [0 0]]\n",
      "After addition\n",
      "[[1 1]\n",
      " [1 1]]\n"
     ]
    }
   ],
   "source": [
    "node = tf.Variable(tf.zeros([2,2]))\n",
    "print(\"Before addition\")\n",
    "tf.print(node)\n",
    "\n",
    "node.assign(node + tf.Variable(tf.ones([2,2])))\n",
    "print(\"After addition\")\n",
    "tf.print(node)"
   ]
  },
  {
   "cell_type": "code",
   "execution_count": 44,
   "metadata": {},
   "outputs": [
    {
     "name": "stdout",
     "output_type": "stream",
     "text": [
      "Multiplication : \n",
      "[[6 6 6]\n",
      " [6 6 6]\n",
      " [6 6 6]]\n",
      "\n",
      "Addition :\n",
      "[[3 3 3]\n",
      " [3 3 3]\n",
      " [3 3 3]]\n",
      "\n",
      "Determinant :\n",
      "0\n"
     ]
    }
   ],
   "source": [
    "import numpy as np\n",
    "\n",
    "node1 = tf.constant(np.array([(2,2,2),(2,2,2),(2,2,2)]), dtype=tf.float32)\n",
    "node2 = tf.constant(np.array([(1,1,1),(1,1,1),(1,1,1)]), dtype=tf.float32)\n",
    "node_mul = tf.matmul(node1, node2)\n",
    "print('Multiplication : ')\n",
    "tf.print(node_mul)\n",
    "\n",
    "node_add = tf.add(node1, node2)\n",
    "print('')\n",
    "print(\"Addition :\")\n",
    "tf.print(node_add)\n",
    "\n",
    "print('')\n",
    "print(\"Determinant :\")\n",
    "node_det = tf.linalg.det(node1)\n",
    "tf.print(node_det)"
   ]
  },
  {
   "cell_type": "code",
   "execution_count": null,
   "metadata": {},
   "outputs": [],
   "source": []
  }
 ],
 "metadata": {
  "kernelspec": {
   "display_name": "Python 3",
   "language": "python",
   "name": "python3"
  },
  "language_info": {
   "codemirror_mode": {
    "name": "ipython",
    "version": 3
   },
   "file_extension": ".py",
   "mimetype": "text/x-python",
   "name": "python",
   "nbconvert_exporter": "python",
   "pygments_lexer": "ipython3",
   "version": "3.8.3"
  }
 },
 "nbformat": 4,
 "nbformat_minor": 4
}

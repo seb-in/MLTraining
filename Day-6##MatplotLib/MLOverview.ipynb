{
 "cells": [
  {
   "cell_type": "markdown",
   "metadata": {},
   "source": [
    "## Overview"
   ]
  },
  {
   "cell_type": "markdown",
   "metadata": {},
   "source": [
    "what is machine learning?\n",
    "   \"Learning is any process by which a system \n",
    "    improves performance from experience.\" \n",
    "           - Herbert Simon\n",
    "\n",
    "Definition by Tom Mitchell (1998):\n",
    "\n",
    "Machine Learning is the study of algorithms that \n",
    "- improve their performance P\n",
    "- at some task T\n",
    "- with experience E.\n",
    "\n",
    "A well-defined learning task is given by <P,T,E>"
   ]
  },
  {
   "cell_type": "markdown",
   "metadata": {},
   "source": [
    "## ML Types\n",
    "- Supervised learning : Feature & Label should be mapped first\n",
    "    - Classification : maps to a class\n",
    "    - Regression : Predict a value\n",
    "- Unsupervised learning : Unlabelled data - It find out the relationship between the input data\n",
    "    - Clustering\n",
    "    - Item set & rule mining\n",
    "- Reinforcement learning : It learn by its own experience\n",
    "- Semisupervised learning :  combination of supervised & unsupervised\n"
   ]
  },
  {
   "cell_type": "code",
   "execution_count": null,
   "metadata": {},
   "outputs": [],
   "source": []
  }
 ],
 "metadata": {
  "kernelspec": {
   "display_name": "Python 3",
   "language": "python",
   "name": "python3"
  },
  "language_info": {
   "codemirror_mode": {
    "name": "ipython",
    "version": 3
   },
   "file_extension": ".py",
   "mimetype": "text/x-python",
   "name": "python",
   "nbconvert_exporter": "python",
   "pygments_lexer": "ipython3",
   "version": "3.8.3"
  }
 },
 "nbformat": 4,
 "nbformat_minor": 4
}

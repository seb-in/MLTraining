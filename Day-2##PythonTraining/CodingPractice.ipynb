{
 "cells": [
  {
   "cell_type": "markdown",
   "metadata": {},
   "source": [
    "## 1. Write a program to read n strings and print the string along with its length and the ending character \n",
    "- eg : apple - 5 - e"
   ]
  },
  {
   "cell_type": "code",
   "execution_count": null,
   "metadata": {},
   "outputs": [],
   "source": [
    "n = int(input('Enter the value n : '))"
   ]
  },
  {
   "cell_type": "code",
   "execution_count": null,
   "metadata": {},
   "outputs": [],
   "source": [
    "for index in range(1, n+1):\n",
    "    value = input('Enter the string %s : ' %index)\n",
    "    print('String : {0}\\nLength : {1}\\nEnding :{2}\\n\\n'.format(value,len(value),value[-1]))\n",
    "    "
   ]
  },
  {
   "cell_type": "markdown",
   "metadata": {},
   "source": [
    "## 2. A program to read a string containing numbers seperated by space and find out the largest, second largest and smallest number in it.\n",
    "- Input format : 2 5 4 7 3 8 9 1\n",
    "- Output expected : 9 8 1"
   ]
  },
  {
   "cell_type": "code",
   "execution_count": null,
   "metadata": {},
   "outputs": [],
   "source": [
    "value = input('Enter the numbers(tab separated)')\n",
    "list_values = [int(a) for a in value.split(' ') ]\n",
    "smallest = list_values[0]\n",
    "second_largest = list_values[0]\n",
    "largest = list_values[0]\n",
    "for item in list_values:\n",
    "   if item > largest:\n",
    "    second_largest = largest\n",
    "    largest = item\n",
    "   elif item > second_largest:\n",
    "    second_largest = item\n",
    "   if item <  smallest:\n",
    "    smallest = item\n",
    "   \n",
    "\n",
    "print('{0} {1} {2}'.format(largest, second_largest, smallest))"
   ]
  },
  {
   "cell_type": "markdown",
   "metadata": {},
   "source": [
    "## 3. A program to rotate elements in a list by 'n' position to right\n",
    "\n",
    "Input format\n",
    "- list : 2 5 4 7 3 8 9 1\n",
    "- No of position to move : 3\n",
    "- Out put expected : 8 9 1 2 5 4 7 3"
   ]
  },
  {
   "cell_type": "code",
   "execution_count": null,
   "metadata": {},
   "outputs": [],
   "source": [
    "n = int(input('Enter the value n : '))\n",
    "value = input('Enter the string : ')\n",
    "numbers = value.split(' ')\n",
    "for index in range(0,n):\n",
    "    last_digit = numbers.pop()\n",
    "    numbers.insert(0, last_digit)\n",
    "print(' '.join(numbers))"
   ]
  },
  {
   "cell_type": "markdown",
   "metadata": {},
   "source": [
    "## 4. A program to read n strings and print the strings which are palindrome"
   ]
  },
  {
   "cell_type": "code",
   "execution_count": null,
   "metadata": {},
   "outputs": [],
   "source": [
    "n = int(input('Enter the value n : '))\n",
    "for i in range(n):\n",
    "    value = input('Enter the string %s : ' %i+1)\n",
    "    isPaliandrome = value == value[::-1]\n",
    "    print('Paliadrome : %s' %isPaliandrome)"
   ]
  },
  {
   "cell_type": "markdown",
   "metadata": {},
   "source": [
    "## 5. A program to read n words to a list and sort the words and alphabet in each words alphabetically eg: ma dear love -> ader am elov\n"
   ]
  },
  {
   "cell_type": "code",
   "execution_count": 4,
   "metadata": {},
   "outputs": [
    {
     "name": "stdout",
     "output_type": "stream",
     "text": [
      "Enter the string : ma dear love\n",
      "ader am elov\n"
     ]
    }
   ],
   "source": [
    "value = input('Enter the string : ')\n",
    "words = value.split(' ')\n",
    "lst = []\n",
    "for word in words:\n",
    "    wordlst = list(word)\n",
    "    wordlst.sort()\n",
    "    lst.append(''.join(wordlst))\n",
    "lst.sort()\n",
    "print(' '.join(lst))"
   ]
  },
  {
   "cell_type": "markdown",
   "metadata": {},
   "source": [
    "## Map Function"
   ]
  },
  {
   "cell_type": "code",
   "execution_count": null,
   "metadata": {},
   "outputs": [],
   "source": [
    "import math\n",
    "lst =[1,2,3,4]\n",
    "print(list(map(math.sqrt, lst)))"
   ]
  },
  {
   "cell_type": "code",
   "execution_count": null,
   "metadata": {},
   "outputs": [],
   "source": []
  }
 ],
 "metadata": {
  "kernelspec": {
   "display_name": "Python 3",
   "language": "python",
   "name": "python3"
  },
  "language_info": {
   "codemirror_mode": {
    "name": "ipython",
    "version": 3
   },
   "file_extension": ".py",
   "mimetype": "text/x-python",
   "name": "python",
   "nbconvert_exporter": "python",
   "pygments_lexer": "ipython3",
   "version": "3.8.3"
  }
 },
 "nbformat": 4,
 "nbformat_minor": 4
}

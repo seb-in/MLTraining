{
 "cells": [
  {
   "cell_type": "markdown",
   "metadata": {},
   "source": [
    "## 1. Write a program to read n strings and print the string along with its length and the ending character \n",
    "- eg : apple - 5 - e"
   ]
  },
  {
   "cell_type": "code",
   "execution_count": 1,
   "metadata": {},
   "outputs": [],
   "source": [
    "n = 5"
   ]
  },
  {
   "cell_type": "code",
   "execution_count": 2,
   "metadata": {},
   "outputs": [
    {
     "name": "stdout",
     "output_type": "stream",
     "text": [
      "Enter the string 1 : Red\n",
      "String : Red\n",
      "Length : 3\n",
      "Ending :d\n",
      "\n",
      "\n",
      "Enter the string 2 : Red\n",
      "String : Red\n",
      "Length : 3\n",
      "Ending :d\n",
      "\n",
      "\n",
      "Enter the string 3 : Black\n",
      "String : Black\n",
      "Length : 5\n",
      "Ending :k\n",
      "\n",
      "\n",
      "Enter the string 4 : Kerala\n",
      "String : Kerala\n",
      "Length : 6\n",
      "Ending :a\n",
      "\n",
      "\n",
      "Enter the string 5 : Kollam\n",
      "String : Kollam\n",
      "Length : 6\n",
      "Ending :m\n",
      "\n",
      "\n"
     ]
    }
   ],
   "source": [
    "for index in range(1, n+1):\n",
    "    value = input('Enter the string %s : ' %index)\n",
    "    print('String : {0}\\nLength : {1}\\nEnding :{2}\\n\\n'.format(value,len(value),value[-1]))\n",
    "    "
   ]
  },
  {
   "cell_type": "markdown",
   "metadata": {},
   "source": [
    "## 2. A program to read a string containing numbers seperated by space and find out the largest, second largest and smallest number in it.\n",
    "- Input format : 2 5 4 7 3 8 9 1\n",
    "- Output expected : 9 8 1"
   ]
  },
  {
   "cell_type": "code",
   "execution_count": 4,
   "metadata": {},
   "outputs": [
    {
     "name": "stdout",
     "output_type": "stream",
     "text": [
      "Enter the numbers(tab separated)2 5 4 7 3 8 9 1\n",
      "9 8 1\n"
     ]
    }
   ],
   "source": [
    "value = input('Enter the numbers(tab separated)')\n",
    "list_values = value.split(' ')\n",
    "list_values.sort()\n",
    "print('{0} {1} {2}'.format(list_values[-1], list_values[-2], list_values[0]))"
   ]
  },
  {
   "cell_type": "markdown",
   "metadata": {},
   "source": [
    "## 3. A program to rotate elements in a list by 'n' position to right\n",
    "\n",
    "Input format\n",
    "- list : 2 5 4 7 3 8 9 1\n",
    "- No of position to move : 3\n",
    "- Out put expected : 8 9 1 2 5 4 7 3"
   ]
  },
  {
   "cell_type": "code",
   "execution_count": 20,
   "metadata": {},
   "outputs": [
    {
     "name": "stdout",
     "output_type": "stream",
     "text": [
      "Enter the string : 2 5 4 7 3 8 9 1\n",
      "8 9 1 2 5 4 7 3\n"
     ]
    }
   ],
   "source": [
    "n = 3\n",
    "value = input('Enter the string : ')\n",
    "numbers = value.split(' ')\n",
    "for index in range(0,n):\n",
    "    last_digit = numbers.pop()\n",
    "    numbers.insert(0, last_digit)\n",
    "print(' '.join(numbers))"
   ]
  },
  {
   "cell_type": "markdown",
   "metadata": {},
   "source": [
    "## 4. A program to read n strings and print the strings which are palindrome"
   ]
  },
  {
   "cell_type": "code",
   "execution_count": 15,
   "metadata": {},
   "outputs": [
    {
     "name": "stdout",
     "output_type": "stream",
     "text": [
      "Enter the string : malayalam\n",
      "Paliadrome : True\n"
     ]
    }
   ],
   "source": [
    "value = input('Enter the string : ')\n",
    "isPaliandrome = True\n",
    "length = len(value)\n",
    "for index in range(0, length):\n",
    "    if(value[index] != value[length - (index + 1)]):\n",
    "        isPaliandrome = False\n",
    "print('Paliadrome : %s' %isPaliandrome)"
   ]
  },
  {
   "cell_type": "markdown",
   "metadata": {},
   "source": [
    "## 5. Write a program to read a string then sort each word in thet string alphabetically after that sort the entire string by considering words alphabitically."
   ]
  },
  {
   "cell_type": "code",
   "execution_count": 17,
   "metadata": {},
   "outputs": [
    {
     "name": "stdout",
     "output_type": "stream",
     "text": [
      "Enter the string : hi how are you\n",
      "are hi how you\n"
     ]
    }
   ],
   "source": [
    "value = input('Enter the string : ')\n",
    "words = value.split(' ')\n",
    "words.sort()\n",
    "print(' '.join(words))"
   ]
  },
  {
   "cell_type": "code",
   "execution_count": null,
   "metadata": {},
   "outputs": [],
   "source": []
  }
 ],
 "metadata": {
  "kernelspec": {
   "display_name": "Python 3",
   "language": "python",
   "name": "python3"
  },
  "language_info": {
   "codemirror_mode": {
    "name": "ipython",
    "version": 3
   },
   "file_extension": ".py",
   "mimetype": "text/x-python",
   "name": "python",
   "nbconvert_exporter": "python",
   "pygments_lexer": "ipython3",
   "version": "3.8.3"
  }
 },
 "nbformat": 4,
 "nbformat_minor": 4
}

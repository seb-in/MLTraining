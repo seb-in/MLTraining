{
 "cells": [
  {
   "cell_type": "markdown",
   "metadata": {},
   "source": [
    "## AND GATE"
   ]
  },
  {
   "cell_type": "code",
   "execution_count": 48,
   "metadata": {},
   "outputs": [],
   "source": [
    "import numpy as np"
   ]
  },
  {
   "cell_type": "code",
   "execution_count": 49,
   "metadata": {},
   "outputs": [],
   "source": [
    "x = np.array([[0,0],[0,1],[1,0],[1,1]])"
   ]
  },
  {
   "cell_type": "code",
   "execution_count": 50,
   "metadata": {},
   "outputs": [],
   "source": [
    "y = np.array([0,0,0,1])"
   ]
  },
  {
   "cell_type": "code",
   "execution_count": 51,
   "metadata": {},
   "outputs": [],
   "source": [
    "from sklearn.linear_model import Perceptron\n",
    "classifier = Perceptron(tol=1e-3,random_state=5)"
   ]
  },
  {
   "cell_type": "code",
   "execution_count": 52,
   "metadata": {},
   "outputs": [
    {
     "name": "stdout",
     "output_type": "stream",
     "text": [
      "1.0\n"
     ]
    }
   ],
   "source": [
    "classifier.fit(x,y)\n",
    "print(classifier.score(x,y))"
   ]
  },
  {
   "cell_type": "code",
   "execution_count": 53,
   "metadata": {},
   "outputs": [],
   "source": [
    "y_pred = classifier.predict(x)"
   ]
  },
  {
   "cell_type": "code",
   "execution_count": 54,
   "metadata": {},
   "outputs": [
    {
     "name": "stdout",
     "output_type": "stream",
     "text": [
      "[0 0 0 1]\n"
     ]
    }
   ],
   "source": [
    "print(y_pred)"
   ]
  },
  {
   "cell_type": "code",
   "execution_count": 55,
   "metadata": {},
   "outputs": [
    {
     "name": "stdout",
     "output_type": "stream",
     "text": [
      "[[2. 2.]]\n",
      "[-3.]\n"
     ]
    }
   ],
   "source": [
    "print(classifier.coef_)\n",
    "print(classifier.intercept_)"
   ]
  },
  {
   "cell_type": "code",
   "execution_count": 56,
   "metadata": {},
   "outputs": [
    {
     "data": {
      "image/png": "[encoded data removed]",
      "text/plain": [
       "<Figure size 432x288 with 1 Axes>"
      ]
     },
     "metadata": {
      "needs_background": "light"
     },
     "output_type": "display_data"
    }
   ],
   "source": [
    "from matplotlib import pyplot as plt\n",
    "colors = ['red', 'blue']\n",
    "for a,b in zip(x,y):\n",
    "    plt.scatter(a[0],a[1], color=colors[b])\n",
    "\n",
    "coeff = classifier.coef_\n",
    "intercept = classifier.intercept_\n",
    "a = coeff[0,0]\n",
    "b = coeff[0,1]\n",
    "c = intercept\n",
    "\n",
    "decision_boundary_x = []\n",
    "decision_boundary_y = []\n",
    "for i in range(-2,2,1):\n",
    "    decision_boundary_x.append(i)\n",
    "    decision_boundary_y.append(-i*a/b - c/b)\n",
    "plt.plot(decision_boundary_x, decision_boundary_y)\n",
    "plt.show()"
   ]
  },
  {
   "cell_type": "markdown",
   "metadata": {},
   "source": [
    "## OR GATE( Multilayer Perceptron)"
   ]
  },
  {
   "cell_type": "code",
   "execution_count": 92,
   "metadata": {},
   "outputs": [],
   "source": [
    "from sklearn.neural_network import MLPClassifier\n",
    "clf = MLPClassifier(random_state=0, max_iter=2000, hidden_layer_sizes=(5,5))"
   ]
  },
  {
   "cell_type": "code",
   "execution_count": 93,
   "metadata": {},
   "outputs": [],
   "source": [
    "x = np.array([[0,0],[0,1],[1,0],[1,1]])\n",
    "y = np.array([0,1,1,1])"
   ]
  },
  {
   "cell_type": "code",
   "execution_count": 94,
   "metadata": {},
   "outputs": [
    {
     "data": {
      "text/plain": [
       "MLPClassifier(hidden_layer_sizes=(5, 5), max_iter=2000, random_state=0)"
      ]
     },
     "execution_count": 94,
     "metadata": {},
     "output_type": "execute_result"
    }
   ],
   "source": [
    "clf.fit(x,y)"
   ]
  },
  {
   "cell_type": "code",
   "execution_count": 95,
   "metadata": {},
   "outputs": [
    {
     "name": "stdout",
     "output_type": "stream",
     "text": [
      "[0 1 1 1]\n"
     ]
    }
   ],
   "source": [
    "y_pred = clf.predict(x)\n",
    "print(y_pred)"
   ]
  },
  {
   "cell_type": "code",
   "execution_count": 96,
   "metadata": {},
   "outputs": [
    {
     "data": {
      "text/plain": [
       "[array([[-4.44311036e-01,  1.24623987e+00,  6.50897375e-02,\n",
       "          8.38895262e-01,  1.26360254e-34],\n",
       "        [-3.40584473e-01,  8.22051842e-01,  3.96928677e-01,\n",
       "          1.71665585e+00, -2.10056738e-22]]),\n",
       " array([[-9.87773224e-04, -8.41108110e-01,  7.03532458e-01,\n",
       "          3.75811125e-01,  1.60095244e+00],\n",
       "        [ 4.44851037e-03,  1.68079444e-01, -5.23494197e-01,\n",
       "          2.87005774e-01, -1.29932351e+00],\n",
       "        [ 3.19854796e-22, -6.89500832e-01,  4.10402855e-01,\n",
       "         -1.11347064e-02, -4.89329331e-01],\n",
       "        [-2.52777333e-08,  1.39854779e-01, -3.71867540e-01,\n",
       "          1.21675672e-02, -7.08095715e-01],\n",
       "        [ 5.41266173e-31,  1.30275670e-29, -1.20527658e-28,\n",
       "          2.14822285e-03,  7.80799589e-13]]),\n",
       " array([[ 3.00540471e-09],\n",
       "        [-9.12054599e-02],\n",
       "        [-9.54838975e-01],\n",
       "        [-3.28611588e-01],\n",
       "        [-1.56185400e+00]])]"
      ]
     },
     "execution_count": 96,
     "metadata": {},
     "output_type": "execute_result"
    }
   ],
   "source": [
    "clf.coefs_"
   ]
  },
  {
   "cell_type": "code",
   "execution_count": null,
   "metadata": {},
   "outputs": [],
   "source": []
  }
 ],
 "metadata": {
  "kernelspec": {
   "display_name": "Python 3",
   "language": "python",
   "name": "python3"
  },
  "language_info": {
   "codemirror_mode": {
    "name": "ipython",
    "version": 3
   },
   "file_extension": ".py",
   "mimetype": "text/x-python",
   "name": "python",
   "nbconvert_exporter": "python",
   "pygments_lexer": "ipython3",
   "version": "3.8.3"
  }
 },
 "nbformat": 4,
 "nbformat_minor": 4
}
